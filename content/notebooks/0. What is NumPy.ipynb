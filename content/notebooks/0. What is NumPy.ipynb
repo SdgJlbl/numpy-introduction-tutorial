{
 "cells": [
  {
   "cell_type": "markdown",
   "metadata": {
    "collapsed": false,
    "jupyter": {
     "outputs_hidden": false
    }
   },
   "source": [
    "# What is NumPy?\n",
    "\n",
    "[NumPy](https://numpy.org/doc/stable/user/absolute_beginners.html) is a Python library for efficient numerical data storage and computation.\n",
    "It is the fundamental building block of many other scientific libraries (such as pandas, scikit-learn and many others).\n",
    "\n",
    "It is important to be able to use its basic functionalities, and to understand the basic principles underneath, in order to be able to use other libraries efficiently."
   ]
  },
  {
   "cell_type": "markdown",
   "metadata": {
    "collapsed": false,
    "jupyter": {
     "outputs_hidden": false
    }
   },
   "source": [
    "| ⚠️ Keep in mind |\n",
    "|:-|\n",
    "| While NumPy uses Python, coding with NumPy and coding with Python rely on two different approaches. Mixing the two will likely result in poor performances. If you want your code to be efficient, you'll want to understand the NumPy way of doing things. We'll cover this together in the workshop! |"
   ]
  },
  {
   "cell_type": "code",
   "execution_count": 1,
   "metadata": {},
   "outputs": [],
   "source": [
    "# Let's select this cell (click on it) and execute it (shift+enter) to\n",
    "# import numpy so that it's available for the rest of the notebook\n",
    "import numpy as np"
   ]
  },
  {
   "cell_type": "markdown",
   "metadata": {
    "collapsed": false,
    "jupyter": {
     "outputs_hidden": false
    }
   },
   "source": [
    "## When to use NumPy & Scientific Python rather than pure Python?\n",
    "\n",
    "Pure Python is great at handling very heterogeneous data and offers a lot of flexibility.\n",
    "It really shines when writing scripts, for Web API, and for designing CLI tools.\n",
    "\n",
    "However, if you are handling large amounts of numerical data, NumPy is probably more suited for the task.\n",
    "If you are doing scientific computing, data analysis, or machine learning, if you use `pandas` or `scikit-learn`, you are in the world of NumPy, and you should avoid using Python data structures and paradigms in that case, to avoid performance issues.\n",
    "\n",
    "Don't worry if it still seems a bit cryptic now, we will see plenty of examples in the next sections."
   ]
  },
  {
   "cell_type": "markdown",
   "metadata": {
    "collapsed": false,
    "jupyter": {
     "outputs_hidden": false
    }
   },
   "source": [
    "## NumPy arrays vs Python lists\n",
    "\n",
    "NumPy's base building blocks are **arrays**, which are more or less vectors or matrices. They can seem similar to Python lists on the first glance."
   ]
  },
  {
   "cell_type": "code",
   "execution_count": 2,
   "metadata": {},
   "outputs": [],
   "source": [
    "a = [1, 2, 3, 4, 5]  # a Python list\n",
    "b = np.array([1, 2, 3, 4, 5])  # a NumPy array"
   ]
  },
  {
   "cell_type": "markdown",
   "metadata": {},
   "source": [
    "There are some key differences between the two:\n",
    "- Python lists may contain any type of data, and are optimized to iterate on elements one by one; they are very flexible but not very efficient for numerical computation;\n",
    "- NumPy arrays are less flexible: they operate on a single data type, and have a predetermined size; however, they may handle multidimensional data, and are optimized for performing numerical operations on large datasets.\n",
    "\n",
    "The rest of this notebook covers the specifics in more detail."
   ]
  },
  {
   "cell_type": "markdown",
   "metadata": {},
   "source": [
    "### Data types\n",
    "Python lists can contain elements of different types, for exemple, you can have a list where one element is an integer, the next one is a string, and the following one is a boolean."
   ]
  },
  {
   "cell_type": "code",
   "execution_count": 3,
   "metadata": {},
   "outputs": [],
   "source": [
    "my_list = [1, \"foo\", True]"
   ]
  },
  {
   "cell_type": "markdown",
   "metadata": {},
   "source": [
    "On the other hand, NumPy arrays require all elements to have the same data type (or `dtype`), and this type must be compatible with NumPy: numerical or boolean.\n",
    "NumPy provides data types for handling non-numeric data such as strings or arbitrary Python objects, but it is less efficient. NumPy is really shining for handling numerical data."
   ]
  },
  {
   "cell_type": "code",
   "execution_count": 4,
   "metadata": {
    "collapsed": false,
    "jupyter": {
     "outputs_hidden": false
    }
   },
   "outputs": [
    {
     "name": "stdout",
     "output_type": "stream",
     "text": [
      "my_int_array.dtype int64\n",
      "my_bool_array.dtype bool\n"
     ]
    }
   ],
   "source": [
    "my_int_array = np.array([1, 2, 3])\n",
    "print(\"my_int_array.dtype\", my_int_array.dtype)\n",
    "my_bool_array = np.array([True, False, True])\n",
    "print(\"my_bool_array.dtype\", my_bool_array.dtype)"
   ]
  },
  {
   "cell_type": "markdown",
   "metadata": {
    "collapsed": false,
    "jupyter": {
     "outputs_hidden": false
    }
   },
   "source": [
    "Python lists are extremely flexible, and can contain any kind of Python objects, including other lists, dictionaries, or even more complex objects."
   ]
  },
  {
   "cell_type": "code",
   "execution_count": 5,
   "metadata": {
    "collapsed": false,
    "jupyter": {
     "outputs_hidden": false
    }
   },
   "outputs": [],
   "source": [
    "my_list = [1, \"foo\", True]\n",
    "\n",
    "class MyComplexDatastructure:\n",
    "    code: int = 418\n",
    "    message: str = \"I'm a teapot\"\n",
    "\n",
    "my_complex_list = [1, lambda x: x+2, [1, 2, 3], {\"some_key\": \"some_value\"}, MyComplexDatastructure()]"
   ]
  },
  {
   "cell_type": "markdown",
   "metadata": {
    "collapsed": false,
    "jupyter": {
     "outputs_hidden": false
    }
   },
   "source": [
    "### Dimensionality\n",
    "Python lists are essentially one-dimensional objects, but you can simulate multi-dimensionality by nesting lists.\n",
    "There will not be any checks to ensure that all of our nested lists have the same length, and it is cumbersome to access elements in dimensions other than the first one."
   ]
  },
  {
   "cell_type": "code",
   "execution_count": 6,
   "metadata": {
    "collapsed": false,
    "jupyter": {
     "outputs_hidden": false
    }
   },
   "outputs": [
    {
     "name": "stdout",
     "output_type": "stream",
     "text": [
      "[[1, 2, 3], [4, 5, 6], [7, 8, 9]]\n",
      "first row: [1, 2, 3]\n",
      "second column [2, 5, 8]\n",
      "a weird but valid nested list\n",
      " [[1, 2], [3, 4, 5], [6, 7, 8, 9]]\n"
     ]
    }
   ],
   "source": [
    "my_2d_list = [[1, 2, 3], [4, 5, 6], [7, 8, 9]]\n",
    "print(my_2d_list)\n",
    "# get the first row\n",
    "print(\"first row:\", my_2d_list[0])\n",
    "# get the second column\n",
    "print(\"second column\", [row[1] for row in my_2d_list])\n",
    "# note that this 2D list is still valid\n",
    "my_2d_list2 = [[1, 2], [3, 4, 5], [6, 7, 8, 9]]\n",
    "print(\"a weird but valid nested list\\n\", my_2d_list2)\n"
   ]
  },
  {
   "cell_type": "markdown",
   "metadata": {
    "collapsed": false,
    "jupyter": {
     "outputs_hidden": false
    }
   },
   "source": [
    "NumPy arrays can have one, two or more dimensions, and it's equally easy to access all of them.\n",
    "All lines have the same length, and all rows have the same length."
   ]
  },
  {
   "cell_type": "code",
   "execution_count": 7,
   "metadata": {
    "collapsed": false,
    "jupyter": {
     "outputs_hidden": false
    }
   },
   "outputs": [
    {
     "name": "stdout",
     "output_type": "stream",
     "text": [
      "[[1 2]\n",
      " [3 4]\n",
      " [5 6]]\n",
      "my matrix shape: (3, 2)\n",
      "first row: [1 2]\n",
      "second column [2 4 6]\n"
     ]
    }
   ],
   "source": [
    "my_matrix = np.array([[1, 2], [3, 4], [5, 6]])\n",
    "print(my_matrix)\n",
    "print(\"my matrix shape:\", my_matrix.shape)\n",
    "# get the first row\n",
    "print(\"first row:\", my_matrix[0])\n",
    "# get the second column\n",
    "print(\"second column\", my_matrix[:, 1])\n"
   ]
  },
  {
   "cell_type": "code",
   "execution_count": 8,
   "metadata": {
    "collapsed": false,
    "jupyter": {
     "outputs_hidden": false
    }
   },
   "outputs": [
    {
     "ename": "ValueError",
     "evalue": "setting an array element with a sequence. The requested array has an inhomogeneous shape after 1 dimensions. The detected shape was (3,) + inhomogeneous part.",
     "output_type": "error",
     "traceback": [
      "\u001b[0;31m---------------------------------------------------------------------------\u001b[0m",
      "\u001b[0;31mValueError\u001b[0m                                Traceback (most recent call last)",
      "Cell \u001b[0;32mIn[8], line 2\u001b[0m\n\u001b[1;32m      1\u001b[0m \u001b[38;5;66;03m# this is not a valid matrix\u001b[39;00m\n\u001b[0;32m----> 2\u001b[0m my_matrix2 \u001b[38;5;241m=\u001b[39m np\u001b[38;5;241m.\u001b[39marray([[\u001b[38;5;241m1\u001b[39m, \u001b[38;5;241m2\u001b[39m], [\u001b[38;5;241m3\u001b[39m, \u001b[38;5;241m4\u001b[39m, \u001b[38;5;241m5\u001b[39m], [\u001b[38;5;241m6\u001b[39m, \u001b[38;5;241m7\u001b[39m, \u001b[38;5;241m8\u001b[39m, \u001b[38;5;241m9\u001b[39m]])\n",
      "\u001b[0;31mValueError\u001b[0m: setting an array element with a sequence. The requested array has an inhomogeneous shape after 1 dimensions. The detected shape was (3,) + inhomogeneous part."
     ]
    }
   ],
   "source": [
    "# this is not a valid matrix\n",
    "my_matrix2 = np.array([[1, 2], [3, 4, 5], [6, 7, 8, 9]])"
   ]
  },
  {
   "cell_type": "markdown",
   "metadata": {
    "collapsed": false,
    "jupyter": {
     "outputs_hidden": false
    }
   },
   "source": [
    "### Computation\n",
    "Advanced Python data structures are optimised for lazy computing: list comprehension and generators allow you to only perform a computation when it's needed. It is great for filtering streams of data that might not fit in memory.\n",
    "```python\n",
    "import pathlib\n",
    "result = [line.split(\"]\", 1)[1].lower() for line in pathlib.Path(\"logs.txt\").open() if line.startswith(\"[ERROR]\")]\n",
    "```"
   ]
  },
  {
   "cell_type": "code",
   "execution_count": 9,
   "metadata": {
    "collapsed": false,
    "jupyter": {
     "outputs_hidden": false
    }
   },
   "outputs": [
    {
     "data": {
      "text/plain": [
       "[0, 289, 1156, 2601, 4624, 7225]"
      ]
     },
     "execution_count": 9,
     "metadata": {},
     "output_type": "execute_result"
    }
   ],
   "source": [
    "# compute the square of all multiples of 17 between 0 and 100\n",
    "[x * x for x in range(100) if not(x % 17)]"
   ]
  },
  {
   "cell_type": "markdown",
   "metadata": {
    "collapsed": false,
    "jupyter": {
     "outputs_hidden": false
    }
   },
   "source": [
    "NumPy is optimised for vectorized operations: performing computations on a whole array (or a whole column / row) at once.\n",
    "It requires a bit of adjustment to think about operations in a vectorized way, but we will see that it yields a significant performance gain."
   ]
  },
  {
   "cell_type": "code",
   "execution_count": 10,
   "metadata": {
    "collapsed": false,
    "jupyter": {
     "outputs_hidden": false
    }
   },
   "outputs": [
    {
     "data": {
      "text/plain": [
       "array([ 1,  4,  9, 16, 25])"
      ]
     },
     "execution_count": 10,
     "metadata": {},
     "output_type": "execute_result"
    }
   ],
   "source": [
    "arr = np.array([1, 2, 3, 4, 5])\n",
    "# compute the square of the whole array in one go\n",
    "np.power(arr, 2)"
   ]
  },
  {
   "cell_type": "markdown",
   "metadata": {
    "collapsed": false,
    "jupyter": {
     "outputs_hidden": false
    }
   },
   "source": [
    "### Memory allocation\n",
    "Python lists and NumPy arrays might seem like similar data structures from the outside, but many of their differences can be explained by how they allocate memory.\n",
    "Python lists are perfectly fine with adding elements at the end of the list as you go, and popping elements from the beginning or the end of the list."
   ]
  },
  {
   "cell_type": "code",
   "execution_count": 11,
   "metadata": {
    "collapsed": false,
    "jupyter": {
     "outputs_hidden": false
    }
   },
   "outputs": [
    {
     "name": "stdout",
     "output_type": "stream",
     "text": [
      "my list [1, 2, 3, 4]\n",
      "I take the last element 4 from the list [1, 2, 3]\n",
      "I can add new elements to my list [1, 2, 3, 5, 6]\n",
      "I take the first element 1 from the list [2, 3, 5, 6]\n"
     ]
    }
   ],
   "source": [
    "my_list = [1, 2, 3, 4]\n",
    "print(\"my list\", my_list)\n",
    "element = my_list.pop()\n",
    "print(f\"I take the last element {element} from the list {my_list}\")\n",
    "my_list.append(5)\n",
    "my_list.append(6)\n",
    "print(\"I can add new elements to my list\", my_list)\n",
    "element2 = my_list.pop(0)\n",
    "print(f\"I take the first element {element2} from the list {my_list}\")"
   ]
  },
  {
   "cell_type": "markdown",
   "metadata": {
    "collapsed": false,
    "jupyter": {
     "outputs_hidden": false
    }
   },
   "source": [
    "NumPy arrays allocate their memory when they are created, as a contiguous block of memory. This means that is you need to add more elements to the array, everything will be copied to a new memory location, which is very slow.\n",
    "You can change the content of each \"cell\" of the array (as long as you respect the data type), but it is costly to add new elements.\n",
    "We will see how you can create arrays soon."
   ]
  },
  {
   "cell_type": "code",
   "execution_count": 12,
   "metadata": {
    "collapsed": false,
    "jupyter": {
     "outputs_hidden": false
    }
   },
   "outputs": [
    {
     "name": "stdout",
     "output_type": "stream",
     "text": [
      "[[1 2 3]\n",
      " [4 5 6]\n",
      " [7 8 9]]\n",
      "[[0 2 3]\n",
      " [4 5 6]\n",
      " [7 8 9]]\n"
     ]
    }
   ],
   "source": [
    "my_array = np.array([[1, 2, 3], [4, 5, 6], [7, 8, 9]])\n",
    "print(my_array)\n",
    "my_array[0, 0] = 0\n",
    "print(my_array)"
   ]
  },
  {
   "cell_type": "markdown",
   "metadata": {},
   "source": [
    "\n",
    "## Summary\n",
    "\n",
    "| Python lists                                      | NumPy arrays                                                     |\n",
    "|---------------------------------------------------|------------------------------------------------------------------|\n",
    "| Heterogeneous data and all data types supported   | All data must have the same type: `uint8`, `float64`, `bool`.... |\n",
    "| One dimensional only                              | All dimensions of a matrix can be accessed easily                |\n",
    "| Optimised for lazy computing (element by element) | Optimised for vectorized operations (whole array at once)        |\n",
    "| Flexible memory allocation (but slow)             | Predetermined memory allocation (but fast)                       |"
   ]
  }
 ],
 "metadata": {
  "kernelspec": {
   "display_name": "Python 3 (ipykernel)",
   "language": "python",
   "name": "python3"
  },
  "language_info": {
   "codemirror_mode": {
    "name": "ipython",
    "version": 3
   },
   "file_extension": ".py",
   "mimetype": "text/x-python",
   "name": "python",
   "nbconvert_exporter": "python",
   "pygments_lexer": "ipython3",
   "version": "3.12.4"
  }
 },
 "nbformat": 4,
 "nbformat_minor": 4
}
