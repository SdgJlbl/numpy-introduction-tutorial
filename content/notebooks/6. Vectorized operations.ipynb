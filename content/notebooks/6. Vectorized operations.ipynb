{
 "cells": [
  {
   "cell_type": "markdown",
   "id": "cc17cfed-55bb-4922-b9a5-81f41e3ccbeb",
   "metadata": {},
   "source": [
    "# 6. Vectorized operations\n",
    "\n",
    "NumPy is optimized for scientific computing, you can perform common mathematical operations easily."
   ]
  },
  {
   "cell_type": "code",
   "execution_count": 1,
   "id": "b25603b9",
   "metadata": {
    "collapsed": false,
    "jupyter": {
     "outputs_hidden": false
    }
   },
   "outputs": [],
   "source": [
    "import numpy as np"
   ]
  },
  {
   "cell_type": "code",
   "execution_count": 2,
   "id": "7c8b5087",
   "metadata": {
    "collapsed": false,
    "jupyter": {
     "outputs_hidden": false
    }
   },
   "outputs": [
    {
     "data": {
      "text/plain": [
       "array([[ 0,  1,  2,  3],\n",
       "       [ 4,  5,  6,  7],\n",
       "       [ 8,  9, 10, 11]])"
      ]
     },
     "execution_count": 2,
     "metadata": {},
     "output_type": "execute_result"
    }
   ],
   "source": [
    "a = np.arange(12).reshape(3, 4)\n",
    "a"
   ]
  },
  {
   "cell_type": "code",
   "execution_count": 3,
   "id": "0f34b06b",
   "metadata": {
    "collapsed": false,
    "jupyter": {
     "outputs_hidden": false
    }
   },
   "outputs": [
    {
     "data": {
      "text/plain": [
       "array([[ 0,  2,  4,  6],\n",
       "       [ 8, 10, 12, 14],\n",
       "       [16, 18, 20, 22]])"
      ]
     },
     "execution_count": 3,
     "metadata": {},
     "output_type": "execute_result"
    }
   ],
   "source": [
    "a * 2"
   ]
  },
  {
   "cell_type": "markdown",
   "id": "c46b4145",
   "metadata": {
    "collapsed": false,
    "jupyter": {
     "outputs_hidden": false
    }
   },
   "source": [
    "We have already seen that we can use broadcasting to perform operations between arrays with compatible shapes."
   ]
  },
  {
   "cell_type": "code",
   "execution_count": 4,
   "id": "29d1333f",
   "metadata": {
    "collapsed": false,
    "jupyter": {
     "outputs_hidden": false
    }
   },
   "outputs": [
    {
     "data": {
      "text/plain": [
       "array([[ 1,  2,  3,  4],\n",
       "       [ 6,  7,  8,  9],\n",
       "       [11, 12, 13, 14]])"
      ]
     },
     "execution_count": 4,
     "metadata": {},
     "output_type": "execute_result"
    }
   ],
   "source": [
    "a + np.array([[1], [2], [3]])"
   ]
  },
  {
   "cell_type": "markdown",
   "id": "7d872e6b",
   "metadata": {
    "collapsed": false,
    "jupyter": {
     "outputs_hidden": false
    }
   },
   "source": [
    "NumPy also implements mathematical functions.\n",
    "The complete list is [here](https://numpy.org/doc/stable/reference/routines.math.html)."
   ]
  },
  {
   "cell_type": "code",
   "execution_count": 5,
   "id": "f789a1b0",
   "metadata": {
    "collapsed": false,
    "jupyter": {
     "outputs_hidden": false
    }
   },
   "outputs": [
    {
     "data": {
      "text/plain": [
       "array([[1.00000000e+00, 2.71828183e+00, 7.38905610e+00, 2.00855369e+01],\n",
       "       [5.45981500e+01, 1.48413159e+02, 4.03428793e+02, 1.09663316e+03],\n",
       "       [2.98095799e+03, 8.10308393e+03, 2.20264658e+04, 5.98741417e+04]])"
      ]
     },
     "execution_count": 5,
     "metadata": {},
     "output_type": "execute_result"
    }
   ],
   "source": [
    "np.exp(a)"
   ]
  },
  {
   "cell_type": "markdown",
   "id": "613c4afb",
   "metadata": {
    "collapsed": false,
    "jupyter": {
     "outputs_hidden": false
    }
   },
   "source": [
    "## Aggregation\n",
    "Some functions aggregate several elements: `sum`, `mean`, `max`, `std`...\n",
    "\n",
    "By default, NumPy will aggregate on the whole array, but you can provide an axis."
   ]
  },
  {
   "cell_type": "code",
   "execution_count": 6,
   "id": "b3f4788d",
   "metadata": {
    "collapsed": false,
    "jupyter": {
     "outputs_hidden": false
    }
   },
   "outputs": [
    {
     "data": {
      "text/plain": [
       "66"
      ]
     },
     "execution_count": 6,
     "metadata": {},
     "output_type": "execute_result"
    }
   ],
   "source": [
    "# sum of all elements of the array\n",
    "np.sum(a)"
   ]
  },
  {
   "cell_type": "code",
   "execution_count": 7,
   "id": "4d092a61",
   "metadata": {
    "collapsed": false,
    "jupyter": {
     "outputs_hidden": false
    }
   },
   "outputs": [
    {
     "data": {
      "text/plain": [
       "array([12, 15, 18, 21])"
      ]
     },
     "execution_count": 7,
     "metadata": {},
     "output_type": "execute_result"
    }
   ],
   "source": [
    "# sum per column\n",
    "np.sum(a, axis=0)"
   ]
  },
  {
   "cell_type": "code",
   "execution_count": 8,
   "id": "9e4b988f",
   "metadata": {
    "collapsed": false,
    "jupyter": {
     "outputs_hidden": false
    }
   },
   "outputs": [
    {
     "data": {
      "text/plain": [
       "array([ 3,  7, 11])"
      ]
     },
     "execution_count": 8,
     "metadata": {},
     "output_type": "execute_result"
    }
   ],
   "source": [
    "# max per row\n",
    "np.max(a, axis=1)"
   ]
  },
  {
   "cell_type": "markdown",
   "id": "df81c8b0",
   "metadata": {
    "collapsed": false,
    "jupyter": {
     "outputs_hidden": false
    }
   },
   "source": [
    "### Exercise\n",
    "Load the array found in `data/simple_array.csv`, and extract for each column, the minimum and maximum values, the average and the standard deviation."
   ]
  },
  {
   "cell_type": "code",
   "execution_count": 9,
   "id": "9c4a1c6c",
   "metadata": {
    "collapsed": false,
    "jupyter": {
     "outputs_hidden": false
    }
   },
   "outputs": [],
   "source": [
    "# uncomment and execute the following line if you want to load the solution\n",
    "# %load ../solutions/exercise10.py"
   ]
  },
  {
   "cell_type": "markdown",
   "id": "9f15e656",
   "metadata": {
    "collapsed": false,
    "jupyter": {
     "outputs_hidden": false
    }
   },
   "source": [
    "## Gotchas\n",
    "When manipulating NumPy arrays, you might use Python lists as index.\n",
    "Python lists do not support mathematical operations.\n",
    "\n",
    "`+` is used to concatenate two Python lists, and `* n` will repeat a list `n` times."
   ]
  },
  {
   "cell_type": "code",
   "execution_count": 10,
   "id": "66df978d",
   "metadata": {
    "collapsed": false,
    "jupyter": {
     "outputs_hidden": false
    }
   },
   "outputs": [
    {
     "data": {
      "text/plain": [
       "array([5, 7, 9])"
      ]
     },
     "execution_count": 10,
     "metadata": {},
     "output_type": "execute_result"
    }
   ],
   "source": [
    "np.array([1, 2, 3]) + np.array([4, 5, 6])"
   ]
  },
  {
   "cell_type": "code",
   "execution_count": 11,
   "id": "c5f3d995",
   "metadata": {
    "collapsed": false,
    "jupyter": {
     "outputs_hidden": false
    }
   },
   "outputs": [
    {
     "data": {
      "text/plain": [
       "[1, 2, 3, 4, 5, 6]"
      ]
     },
     "execution_count": 11,
     "metadata": {},
     "output_type": "execute_result"
    }
   ],
   "source": [
    "[1, 2, 3] + [4, 5, 6]"
   ]
  },
  {
   "cell_type": "code",
   "execution_count": 12,
   "id": "91f5ea16",
   "metadata": {
    "collapsed": false,
    "jupyter": {
     "outputs_hidden": false
    }
   },
   "outputs": [
    {
     "data": {
      "text/plain": [
       "array([4., 4., 4.])"
      ]
     },
     "execution_count": 12,
     "metadata": {},
     "output_type": "execute_result"
    }
   ],
   "source": [
    "np.ones(3) * 4"
   ]
  },
  {
   "cell_type": "code",
   "execution_count": 13,
   "id": "5858f364",
   "metadata": {
    "collapsed": false,
    "jupyter": {
     "outputs_hidden": false
    }
   },
   "outputs": [
    {
     "data": {
      "text/plain": [
       "[1, 1, 1, 1, 1, 1, 1, 1, 1, 1, 1, 1]"
      ]
     },
     "execution_count": 13,
     "metadata": {},
     "output_type": "execute_result"
    }
   ],
   "source": [
    "[1, 1, 1] * 4"
   ]
  },
  {
   "cell_type": "markdown",
   "id": "5834420f",
   "metadata": {
    "collapsed": false,
    "jupyter": {
     "outputs_hidden": false
    }
   },
   "source": [
    "## Performance\n",
    "NumPy arrays are optimised to perform vectorised operations: operations that\n",
    "are done on all elements of an array in one go, without using a `for` loop.\n",
    "\n",
    "We are going to use the Jupyter `%%timeit` magic to get an estimate of how much\n",
    "time an operation is taking. Note: in order to get a correct estimate, `timeit`\n",
    "will run the operation several times. Consequently, even if executing the cell\n",
    "takes a few seconds, what we're doing might be much quicker."
   ]
  },
  {
   "cell_type": "code",
   "execution_count": 14,
   "id": "58f446fa",
   "metadata": {
    "collapsed": false,
    "jupyter": {
     "outputs_hidden": false
    }
   },
   "outputs": [],
   "source": [
    "a = np.random.rand(10000)"
   ]
  },
  {
   "cell_type": "code",
   "execution_count": 15,
   "id": "e189e905",
   "metadata": {
    "collapsed": false,
    "jupyter": {
     "outputs_hidden": false
    }
   },
   "outputs": [
    {
     "name": "stdout",
     "output_type": "stream",
     "text": [
      "1.62 μs ± 19.7 ns per loop (mean ± std. dev. of 7 runs, 1,000,000 loops each)\n"
     ]
    }
   ],
   "source": [
    "%%timeit\n",
    "a * a"
   ]
  },
  {
   "cell_type": "code",
   "execution_count": 16,
   "id": "9d13c144",
   "metadata": {
    "collapsed": false,
    "jupyter": {
     "outputs_hidden": false
    }
   },
   "outputs": [],
   "source": [
    "import random\n",
    "l = [random.random() for _ in range(10000)]"
   ]
  },
  {
   "cell_type": "code",
   "execution_count": 17,
   "id": "37dfa971",
   "metadata": {
    "collapsed": false,
    "jupyter": {
     "outputs_hidden": false
    }
   },
   "outputs": [
    {
     "name": "stdout",
     "output_type": "stream",
     "text": [
      "176 μs ± 365 ns per loop (mean ± std. dev. of 7 runs, 10,000 loops each)\n"
     ]
    }
   ],
   "source": [
    "%%timeit\n",
    "[e * e for e in l]"
   ]
  },
  {
   "cell_type": "markdown",
   "id": "e768d8aa",
   "metadata": {
    "collapsed": false,
    "jupyter": {
     "outputs_hidden": false
    }
   },
   "source": [
    "The exact values depend on your laptop, but there are usually 3 orders of magnitude betwen NumPy and pure Python, for an operation as simple as squaring the values.\n",
    "\n",
    "Using a `for` loop instead of a list comprehension is even slower."
   ]
  },
  {
   "cell_type": "code",
   "execution_count": 18,
   "id": "1aa51614",
   "metadata": {
    "collapsed": false,
    "jupyter": {
     "outputs_hidden": false
    }
   },
   "outputs": [
    {
     "name": "stdout",
     "output_type": "stream",
     "text": [
      "206 μs ± 352 ns per loop (mean ± std. dev. of 7 runs, 1,000 loops each)\n"
     ]
    }
   ],
   "source": [
    "%%timeit\n",
    "result = []\n",
    "for e in l:\n",
    "    result.append(e * e)\n",
    "result"
   ]
  },
  {
   "cell_type": "markdown",
   "id": "4479880a",
   "metadata": {},
   "source": [
    "Because of this, you should always try to use vectorized operations when\n",
    "possible. The rule of thumb is: if you're using a `for` loop to iterate over\n",
    "all of your data, you may not be using NumPy to its full potential.\n",
    "It may be acceptable if you're in a hurry and can't find a better solution, but\n",
    "it's usually worth the effort to vectorize your operations.\n",
    "\n",
    "Note: there are advanced libraries you can use to transform your Python code\n",
    "into vectorized operations, such as Numba. We won't cover them in this workshop."
   ]
  },
  {
   "cell_type": "markdown",
   "id": "b3fe0e86",
   "metadata": {
    "collapsed": false,
    "jupyter": {
     "outputs_hidden": false
    }
   },
   "source": [
    "### Exercise\n",
    "\n",
    "Perform a linear transformation on a series of values:\n",
    "`y1 = a1 * x11 + a2 * x12 + ... + b1`;\n",
    "`y2 = a1 * x21 + a2 * x22 + ... + b2`;\n",
    "...\n",
    "\n",
    "You can first write the operation as it seems more natural to you, then try to vectorize it.\n",
    "Time the two variants."
   ]
  },
  {
   "cell_type": "code",
   "execution_count": 19,
   "id": "cc180554",
   "metadata": {
    "collapsed": false,
    "jupyter": {
     "outputs_hidden": false
    }
   },
   "outputs": [],
   "source": [
    "X = np.random.randint(0, 100, (3, 4))\n",
    "a = np.array([4, 2, 8, 5])\n",
    "b = np.array([245, 398, 546])"
   ]
  },
  {
   "cell_type": "code",
   "execution_count": 20,
   "id": "2b3c3077",
   "metadata": {
    "collapsed": false,
    "jupyter": {
     "outputs_hidden": false
    }
   },
   "outputs": [],
   "source": [
    "# uncomment and execute the following line if you want to load the solution\n",
    "# %load ../solutions/exercise11.py"
   ]
  },
  {
   "cell_type": "code",
   "execution_count": null,
   "id": "0bf2e0e6",
   "metadata": {
    "collapsed": false,
    "jupyter": {
     "outputs_hidden": false
    }
   },
   "outputs": [],
   "source": []
  }
 ],
 "metadata": {
  "kernelspec": {
   "display_name": "Python 3 (ipykernel)",
   "language": "python",
   "name": "python3"
  },
  "language_info": {
   "codemirror_mode": {
    "name": "ipython",
    "version": 3
   },
   "file_extension": ".py",
   "mimetype": "text/x-python",
   "name": "python",
   "nbconvert_exporter": "python",
   "pygments_lexer": "ipython3",
   "version": "3.12.4"
  }
 },
 "nbformat": 4,
 "nbformat_minor": 5
}
