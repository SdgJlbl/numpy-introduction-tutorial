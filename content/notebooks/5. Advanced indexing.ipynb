{
 "cells": [
  {
   "cell_type": "markdown",
   "id": "3b33e0d1-3a4d-4088-9780-f2c07c98df39",
   "metadata": {},
   "source": [
    "# 5. Advanced indexing\n",
    "\n",
    "Slices are a very powerful tool which can allow you to access the elements of an array in a flexible way.\n",
    "You can use a different increment for each dimension, for exemple, and select a different range."
   ]
  },
  {
   "cell_type": "code",
   "execution_count": 1,
   "id": "e36b6e4d",
   "metadata": {
    "collapsed": false,
    "jupyter": {
     "outputs_hidden": false
    }
   },
   "outputs": [],
   "source": [
    "import numpy as np"
   ]
  },
  {
   "cell_type": "markdown",
   "id": "7c9a8ce7",
   "metadata": {
    "collapsed": false,
    "jupyter": {
     "outputs_hidden": false
    }
   },
   "source": [
    "### Exercise\n",
    "\n",
    "Given the following array, extract the elements following a zigzag pattern: (0, 0), (1, 1), (2,0), (3, 1), (4, 0), (5, 1), ...\n",
    "\n",
    "You should get: `[ 0,  3,  4,  7,  8, 11, 12, 15, 16, 19, 20, 23]`"
   ]
  },
  {
   "cell_type": "code",
   "execution_count": 2,
   "id": "e88840be",
   "metadata": {
    "collapsed": false,
    "jupyter": {
     "outputs_hidden": false
    }
   },
   "outputs": [
    {
     "name": "stdout",
     "output_type": "stream",
     "text": [
      "[[ 0  1]\n",
      " [ 2  3]\n",
      " [ 4  5]\n",
      " [ 6  7]\n",
      " [ 8  9]\n",
      " [10 11]\n",
      " [12 13]\n",
      " [14 15]\n",
      " [16 17]\n",
      " [18 19]\n",
      " [20 21]\n",
      " [22 23]]\n"
     ]
    },
    {
     "data": {
      "text/plain": [
       "Ellipsis"
      ]
     },
     "execution_count": 2,
     "metadata": {},
     "output_type": "execute_result"
    }
   ],
   "source": [
    "a = np.arange(24).reshape(-1, 2)\n",
    "print(a)\n",
    "..."
   ]
  },
  {
   "cell_type": "code",
   "execution_count": 3,
   "id": "c3d3b69f",
   "metadata": {
    "collapsed": false,
    "jupyter": {
     "outputs_hidden": false
    }
   },
   "outputs": [],
   "source": [
    "# uncomment and execute the following line if you want to load the solution\n",
    "# %load ../solutions/exercise5.py"
   ]
  },
  {
   "cell_type": "markdown",
   "id": "c6a85398",
   "metadata": {
    "collapsed": false,
    "jupyter": {
     "outputs_hidden": false
    }
   },
   "source": [
    "## Fancy indexing\n",
    "\n",
    "NumPy arrays can be indexed with any array or list of integers, including with duplicated indices.\n",
    "This is different from slicing, because it will create a copy of the data."
   ]
  },
  {
   "cell_type": "code",
   "execution_count": 4,
   "id": "ab8b9409",
   "metadata": {
    "collapsed": false,
    "jupyter": {
     "outputs_hidden": false
    }
   },
   "outputs": [
    {
     "name": "stdout",
     "output_type": "stream",
     "text": [
      "[10  9  8  7  6  5  4  3  2  1]\n"
     ]
    },
    {
     "data": {
      "text/plain": [
       "array([10,  9, 10,  9,  8,  6])"
      ]
     },
     "execution_count": 4,
     "metadata": {},
     "output_type": "execute_result"
    }
   ],
   "source": [
    "a = np.arange(10, 0, -1)\n",
    "print(a)\n",
    "a[[0, 1, 0, 1, 2, 4]]"
   ]
  },
  {
   "cell_type": "markdown",
   "id": "4c04727f",
   "metadata": {
    "collapsed": false,
    "jupyter": {
     "outputs_hidden": false
    }
   },
   "source": [
    "This also works for multi-dimensional arrays, supports broadcasting and can be used to modify the array."
   ]
  },
  {
   "cell_type": "code",
   "execution_count": 5,
   "id": "ec6aeb0f",
   "metadata": {
    "collapsed": false,
    "jupyter": {
     "outputs_hidden": false
    }
   },
   "outputs": [
    {
     "data": {
      "text/plain": [
       "array([[ 0,  1,  2,  3],\n",
       "       [ 4,  5,  6,  7],\n",
       "       [ 8,  9, 10, 11]])"
      ]
     },
     "execution_count": 5,
     "metadata": {},
     "output_type": "execute_result"
    }
   ],
   "source": [
    "b = np.arange(12).reshape(3, 4)\n",
    "b"
   ]
  },
  {
   "cell_type": "code",
   "execution_count": 6,
   "id": "73f5d222",
   "metadata": {
    "collapsed": false,
    "jupyter": {
     "outputs_hidden": false
    }
   },
   "outputs": [
    {
     "data": {
      "text/plain": [
       "array([[ 0,  1,  2,  3],\n",
       "       [ 8,  9, 10, 11],\n",
       "       [ 4,  5,  6,  7],\n",
       "       [ 0,  1,  2,  3]])"
      ]
     },
     "execution_count": 6,
     "metadata": {},
     "output_type": "execute_result"
    }
   ],
   "source": [
    "# reorder and duplicate lines\n",
    "b[[0, 2, 1, 0]]"
   ]
  },
  {
   "cell_type": "code",
   "execution_count": 7,
   "id": "4f7c8d95",
   "metadata": {
    "collapsed": false,
    "jupyter": {
     "outputs_hidden": false
    }
   },
   "outputs": [
    {
     "data": {
      "text/plain": [
       "array([[ 2,  0,  1,  3],\n",
       "       [ 6,  4,  5,  7],\n",
       "       [10,  8,  9, 11]])"
      ]
     },
     "execution_count": 7,
     "metadata": {},
     "output_type": "execute_result"
    }
   ],
   "source": [
    "# reorder columns\n",
    "b[:, [2, 0, 1, 3]]"
   ]
  },
  {
   "cell_type": "markdown",
   "id": "9a9d4442",
   "metadata": {
    "collapsed": false,
    "jupyter": {
     "outputs_hidden": false
    }
   },
   "source": [
    "Passing two lists of indices will extract the elements at the corresponding coordinates."
   ]
  },
  {
   "cell_type": "code",
   "execution_count": 8,
   "id": "206d5bc2",
   "metadata": {
    "collapsed": false,
    "jupyter": {
     "outputs_hidden": false
    }
   },
   "outputs": [
    {
     "data": {
      "text/plain": [
       "array([ 1, 10,  7])"
      ]
     },
     "execution_count": 8,
     "metadata": {},
     "output_type": "execute_result"
    }
   ],
   "source": [
    "b[[0, 2, 1], [1, 2, 3]]\n",
    "# extract the elements at (0, 1), (2, 2) and (1, 3)"
   ]
  },
  {
   "cell_type": "markdown",
   "id": "5b2ae365",
   "metadata": {
    "collapsed": false,
    "jupyter": {
     "outputs_hidden": false
    }
   },
   "source": [
    "Note that this is different from slicing, because it will create a copy of the data."
   ]
  },
  {
   "cell_type": "code",
   "execution_count": 9,
   "id": "4c62c504",
   "metadata": {
    "collapsed": false,
    "jupyter": {
     "outputs_hidden": false
    }
   },
   "outputs": [
    {
     "name": "stdout",
     "output_type": "stream",
     "text": [
      "[10  9  8  7  6  5  4  3  2  1]\n",
      "with slicing [10  8  6  4  2]\n",
      "with fancy indexing [10  8  6  4  2]\n",
      "with slicing - this is a view of the original array [42  8  6  4  2]\n",
      "with fancy indexing - this is a copy [10  8  6  4  2]\n"
     ]
    }
   ],
   "source": [
    "a = np.arange(10, 0, -1)\n",
    "print(a)\n",
    "with_slicing = a[::2]\n",
    "with_fancy_indexing = a[[0, 2, 4, 6, 8]]\n",
    "print(\"with slicing\", with_slicing)\n",
    "print(\"with fancy indexing\", with_fancy_indexing)\n",
    "a[0] = 42\n",
    "print(\"with slicing - this is a view of the original array\", with_slicing)\n",
    "print(\"with fancy indexing - this is a copy\", with_fancy_indexing)"
   ]
  },
  {
   "cell_type": "markdown",
   "id": "275d42cd",
   "metadata": {
    "collapsed": false,
    "jupyter": {
     "outputs_hidden": false
    }
   },
   "source": [
    "### Exercise\n",
    "Write a function that returns the corners of any 2D array.\n",
    "\n",
    "Fill in the code skeleton, and then test it out with the various test cases."
   ]
  },
  {
   "cell_type": "code",
   "execution_count": 10,
   "id": "3bc55379",
   "metadata": {
    "collapsed": false,
    "jupyter": {
     "outputs_hidden": false
    }
   },
   "outputs": [],
   "source": [
    "def corners(a: np.ndarray) -> np.ndarray:\n",
    "    # your code here\n",
    "    return"
   ]
  },
  {
   "cell_type": "code",
   "execution_count": 11,
   "id": "b9dd84b8",
   "metadata": {
    "collapsed": false,
    "jupyter": {
     "outputs_hidden": false
    }
   },
   "outputs": [],
   "source": [
    "# uncomment and execute the following line if you want to load the solution\n",
    "# %load ../solutions/exercise6.py"
   ]
  },
  {
   "cell_type": "code",
   "execution_count": 12,
   "id": "d045151a",
   "metadata": {
    "collapsed": false,
    "jupyter": {
     "outputs_hidden": false
    }
   },
   "outputs": [
    {
     "name": "stdout",
     "output_type": "stream",
     "text": [
      "[[1. 1. 1. 1. 1.]\n",
      " [1. 1. 1. 1. 1.]\n",
      " [1. 1. 1. 1. 1.]\n",
      " [1. 1. 1. 1. 1.]]\n"
     ]
    },
    {
     "ename": "AssertionError",
     "evalue": "",
     "output_type": "error",
     "traceback": [
      "\u001b[0;31m---------------------------------------------------------------------------\u001b[0m",
      "\u001b[0;31mAssertionError\u001b[0m                            Traceback (most recent call last)",
      "Cell \u001b[0;32mIn[12], line 4\u001b[0m\n\u001b[1;32m      2\u001b[0m a \u001b[38;5;241m=\u001b[39m np\u001b[38;5;241m.\u001b[39mones((\u001b[38;5;241m4\u001b[39m, \u001b[38;5;241m5\u001b[39m))\n\u001b[1;32m      3\u001b[0m \u001b[38;5;28mprint\u001b[39m(a)\n\u001b[0;32m----> 4\u001b[0m \u001b[38;5;28;01massert\u001b[39;00m np\u001b[38;5;241m.\u001b[39mall(corners(a) \u001b[38;5;241m==\u001b[39m np\u001b[38;5;241m.\u001b[39marray([\u001b[38;5;241m1\u001b[39m, \u001b[38;5;241m1\u001b[39m, \u001b[38;5;241m1\u001b[39m, \u001b[38;5;241m1\u001b[39m]))\n",
      "\u001b[0;31mAssertionError\u001b[0m: "
     ]
    }
   ],
   "source": [
    "# test cases\n",
    "a = np.ones((4, 5))\n",
    "print(a)\n",
    "assert np.all(corners(a) == np.array([1, 1, 1, 1]))"
   ]
  },
  {
   "cell_type": "code",
   "execution_count": null,
   "id": "c7e86279",
   "metadata": {
    "collapsed": false,
    "jupyter": {
     "outputs_hidden": false
    }
   },
   "outputs": [],
   "source": [
    "b = np.arange(9).reshape(3, 3)\n",
    "print(b)\n",
    "assert np.all(corners(b) == np.array([0, 2, 6, 8]))"
   ]
  },
  {
   "cell_type": "code",
   "execution_count": null,
   "id": "8fec681b",
   "metadata": {
    "collapsed": false,
    "jupyter": {
     "outputs_hidden": false
    }
   },
   "outputs": [],
   "source": [
    "c = np.arange(12).reshape(-1, 2)\n",
    "print(c)\n",
    "assert np.all(corners(c) == np.array([0, 1, 10, 11]))"
   ]
  },
  {
   "cell_type": "markdown",
   "id": "c70361d8",
   "metadata": {
    "collapsed": false,
    "jupyter": {
     "outputs_hidden": false
    }
   },
   "source": [
    "## Boolean masks\n",
    "One trick that is very useful when manipulating arrays is to leverage boolean masks.\n",
    "\n",
    "A boolean mask is an array of the same shape as the original array, filled with boolean values. It is typically produced by applying a comparison operator to the array."
   ]
  },
  {
   "cell_type": "code",
   "execution_count": 13,
   "id": "bb19db03",
   "metadata": {
    "collapsed": false,
    "jupyter": {
     "outputs_hidden": false
    }
   },
   "outputs": [
    {
     "name": "stdout",
     "output_type": "stream",
     "text": [
      "[[ 0  1  2  3]\n",
      " [ 4  5  6  7]\n",
      " [ 8  9 10 11]]\n",
      "[[ True  True  True False]\n",
      " [False False False False]\n",
      " [False False False False]]\n"
     ]
    }
   ],
   "source": [
    "a = np.arange(12).reshape(3, 4)\n",
    "mask = a <= 2\n",
    "print(a)\n",
    "print(mask)  # mask is a boolean array filled with True where the value of a is <= 2 and False elsewhere"
   ]
  },
  {
   "cell_type": "markdown",
   "id": "f6b4c27b",
   "metadata": {
    "collapsed": false,
    "jupyter": {
     "outputs_hidden": false
    }
   },
   "source": [
    "We can use a boolean mask to perform operations on a subset of the array."
   ]
  },
  {
   "cell_type": "code",
   "execution_count": 14,
   "id": "277fbde5",
   "metadata": {
    "collapsed": false,
    "jupyter": {
     "outputs_hidden": false
    }
   },
   "outputs": [
    {
     "name": "stdout",
     "output_type": "stream",
     "text": [
      "[[ 0  0  0  3]\n",
      " [ 4  5  6  7]\n",
      " [ 8  9 10 11]]\n"
     ]
    }
   ],
   "source": [
    "a[mask] = 0\n",
    "print(a)"
   ]
  },
  {
   "cell_type": "markdown",
   "id": "8a92cdcc",
   "metadata": {},
   "source": [
    "It's usual to do both operations in a single line:"
   ]
  },
  {
   "cell_type": "code",
   "execution_count": 15,
   "id": "606dd45f",
   "metadata": {},
   "outputs": [
    {
     "data": {
      "text/plain": [
       "array([ 6,  7,  8,  9, 10, 11])"
      ]
     },
     "execution_count": 15,
     "metadata": {},
     "output_type": "execute_result"
    }
   ],
   "source": [
    "a[a > 5]  # Get me all the values where a > 5"
   ]
  },
  {
   "cell_type": "markdown",
   "id": "48758d93",
   "metadata": {},
   "source": [
    "Note: The opposite of a mask can be obtained by using the `~` operator"
   ]
  },
  {
   "cell_type": "code",
   "execution_count": 16,
   "id": "c9eddf22",
   "metadata": {},
   "outputs": [
    {
     "name": "stdout",
     "output_type": "stream",
     "text": [
      "         mask\n",
      "[[False False False  True]\n",
      " [ True  True  True False]\n",
      " [False False False False]]\n",
      "opposite mask\n",
      "[[ True  True  True False]\n",
      " [False False False  True]\n",
      " [ True  True  True  True]]\n"
     ]
    }
   ],
   "source": [
    "mask = (a > 2) & (a < 7)\n",
    "print(\"         mask\")\n",
    "print(mask)\n",
    "print(\"opposite mask\")\n",
    "print(~mask)"
   ]
  },
  {
   "cell_type": "markdown",
   "id": "bc506f45",
   "metadata": {
    "collapsed": false,
    "jupyter": {
     "outputs_hidden": false
    }
   },
   "source": [
    "### Exercise\n",
    "Replace all negative values of the array with 0."
   ]
  },
  {
   "cell_type": "code",
   "execution_count": 17,
   "id": "8d1a0fa7",
   "metadata": {
    "collapsed": false,
    "jupyter": {
     "outputs_hidden": false
    }
   },
   "outputs": [
    {
     "ename": "AssertionError",
     "evalue": "",
     "output_type": "error",
     "traceback": [
      "\u001b[0;31m---------------------------------------------------------------------------\u001b[0m",
      "\u001b[0;31mAssertionError\u001b[0m                            Traceback (most recent call last)",
      "Cell \u001b[0;32mIn[17], line 4\u001b[0m\n\u001b[1;32m      2\u001b[0m \u001b[38;5;66;03m# your code here\u001b[39;00m\n\u001b[1;32m      3\u001b[0m \u001b[38;5;241m.\u001b[39m\u001b[38;5;241m.\u001b[39m\u001b[38;5;241m.\u001b[39m\n\u001b[0;32m----> 4\u001b[0m \u001b[38;5;28;01massert\u001b[39;00m np\u001b[38;5;241m.\u001b[39mall(a \u001b[38;5;241m>\u001b[39m\u001b[38;5;241m=\u001b[39m \u001b[38;5;241m0\u001b[39m)\n",
      "\u001b[0;31mAssertionError\u001b[0m: "
     ]
    }
   ],
   "source": [
    "a = np.random.normal(0, 1, (5, 4))\n",
    "# your code here\n",
    "...\n",
    "assert np.all(a >= 0)"
   ]
  },
  {
   "cell_type": "code",
   "execution_count": null,
   "id": "5329bdd2",
   "metadata": {
    "collapsed": false,
    "jupyter": {
     "outputs_hidden": false
    }
   },
   "outputs": [],
   "source": [
    "# uncomment and execute the following line if you want to load the solution\n",
    "# %load ../solutions/exercise7.py"
   ]
  },
  {
   "cell_type": "markdown",
   "id": "377f2f6b",
   "metadata": {
    "collapsed": false,
    "jupyter": {
     "outputs_hidden": false
    }
   },
   "source": [
    "## Sorting\n",
    "NumPy provides a function that returns a sorted copy of an array."
   ]
  },
  {
   "cell_type": "code",
   "execution_count": 18,
   "id": "3e0effd6",
   "metadata": {
    "collapsed": false,
    "jupyter": {
     "outputs_hidden": false
    }
   },
   "outputs": [
    {
     "data": {
      "text/plain": [
       "array([ 1,  2,  3,  8, 47])"
      ]
     },
     "execution_count": 18,
     "metadata": {},
     "output_type": "execute_result"
    }
   ],
   "source": [
    "a = np.array([3, 1, 2, 8, 47])\n",
    "np.sort(a)"
   ]
  },
  {
   "cell_type": "markdown",
   "id": "0d1a414b",
   "metadata": {
    "collapsed": false,
    "jupyter": {
     "outputs_hidden": false
    }
   },
   "source": [
    "Sometimes, this is not exactly what you need; `np.argsort` tells you in which order to take the indices of the array to sort it, and you can further manipulate the result."
   ]
  },
  {
   "cell_type": "code",
   "execution_count": 19,
   "id": "5e62ac5c",
   "metadata": {
    "collapsed": false,
    "jupyter": {
     "outputs_hidden": false
    }
   },
   "outputs": [
    {
     "name": "stdout",
     "output_type": "stream",
     "text": [
      "[1 2 0 3 4]\n"
     ]
    }
   ],
   "source": [
    "sorted_indexes = np.argsort(a)\n",
    "print(sorted_indexes)  # The smallest value has index 1, then 2, 0, 3, and the biggest element is the one at index 4"
   ]
  },
  {
   "cell_type": "code",
   "execution_count": 20,
   "id": "9fccd68d",
   "metadata": {
    "collapsed": false,
    "jupyter": {
     "outputs_hidden": false
    }
   },
   "outputs": [
    {
     "name": "stdout",
     "output_type": "stream",
     "text": [
      "[47  8  3  2  1]\n"
     ]
    }
   ],
   "source": [
    "# sorting the array in reverse order\n",
    "print(a[sorted_indexes[::-1]])"
   ]
  },
  {
   "cell_type": "markdown",
   "id": "a2e229eb",
   "metadata": {
    "collapsed": false,
    "jupyter": {
     "outputs_hidden": false
    }
   },
   "source": [
    "### Exercise\n",
    "You have an array of 7 unsorted numbers, that represent notes given by a jury for an olympic event.\n",
    "The lowest and highest notes should be removed, and return the remaining notes, sorted in ascending order."
   ]
  },
  {
   "cell_type": "code",
   "execution_count": 21,
   "id": "e67d6525",
   "metadata": {
    "collapsed": false,
    "jupyter": {
     "outputs_hidden": false
    }
   },
   "outputs": [],
   "source": [
    "notes = np.array([8, 7, 6, 9, 8, 4, 10])\n",
    "..."
   ]
  },
  {
   "cell_type": "code",
   "execution_count": null,
   "id": "9ba83fa5",
   "metadata": {
    "collapsed": false,
    "jupyter": {
     "outputs_hidden": false
    }
   },
   "outputs": [],
   "source": [
    "# uncomment and execute the following line if you want to load the solution\n",
    "# %load ../solutions/exercise8.py"
   ]
  },
  {
   "cell_type": "markdown",
   "id": "2815bf01",
   "metadata": {
    "collapsed": false,
    "jupyter": {
     "outputs_hidden": false
    }
   },
   "source": [
    "## Bonus exercise\n",
    "\n",
    "Create a 8x8 checkboard (alternating 0s and 1s for black and white).\n",
    "There are several ways to do this, using a boolean mask, fancy indexing or concatenation."
   ]
  },
  {
   "cell_type": "code",
   "execution_count": null,
   "id": "07f19e36",
   "metadata": {
    "collapsed": false,
    "jupyter": {
     "outputs_hidden": false
    }
   },
   "outputs": [],
   "source": [
    "# uncomment and execute the following line if you want to load the solution\n",
    "# %load ../solutions/exercise9.py"
   ]
  },
  {
   "cell_type": "code",
   "execution_count": null,
   "id": "08637fed",
   "metadata": {
    "collapsed": false,
    "jupyter": {
     "outputs_hidden": false
    }
   },
   "outputs": [],
   "source": []
  }
 ],
 "metadata": {
  "kernelspec": {
   "display_name": "Python 3 (ipykernel)",
   "language": "python",
   "name": "python3"
  },
  "language_info": {
   "codemirror_mode": {
    "name": "ipython",
    "version": 3
   },
   "file_extension": ".py",
   "mimetype": "text/x-python",
   "name": "python",
   "nbconvert_exporter": "python",
   "pygments_lexer": "ipython3",
   "version": "3.12.4"
  }
 },
 "nbformat": 4,
 "nbformat_minor": 5
}
